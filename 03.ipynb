{
 "cells": [
  {
   "cell_type": "markdown",
   "metadata": {},
   "source": [
    "# 3. 確率的勾配降下法\n",
    "\n",
    "## 3.1. 勾配降下法\n",
    "\n",
    "### 誤差関数(2章の復習)\n",
    "\n",
    "訓練データ\n",
    "$$\n",
    "D  = { (x_1, d_1), ... , (x_N, d_N) }\n",
    "$$\n",
    "に対する回帰問題での誤差関数\n",
    "$$\n",
    "E(w) = \\frac{1}{2} \\sum_{n = 1}^{N} ||d_n - y(x_n; w)||^2\n",
    "$$\n",
    "\n",
    "$x_i$は入力データ, $d_i$は目標出力データ, $w$はネットワークパラメータ(重みとバイアス), $y$は出力関数\n",
    "\n",
    "他クラス分類問題での誤差関数\n",
    "$$\n",
    "E(w) = - \\sum_{n = 1}^{N} \\sum_{k = 1}^{K} d_{nk} \\log y_k (x_n; w)\n",
    "$$\n",
    "$$\n",
    "d_n = [d_{n1} ... d_{nK}]^T\n",
    "$$\n",
    "\n",
    "$y_k$はk番目のユニットの出力(ソフトマックス関数)\n",
    "\n",
    "### 学習のゴール\n",
    "\n",
    "誤差関数$E(w)$を最小にする$w = { argmin }_w E(w)$を求めること\n",
    "\n",
    "### 勾配降下法\n",
    "\n",
    "上記$w$を求める簡単な方法\n",
    "\n",
    "勾配\n",
    "$$\n",
    "\\nabla E \\equiv \\frac{\\partial E}{\\partial w} = [ \\frac{\\partial E}{\\partial w_1} ... \\frac{\\partial E}{\\partial w_M} ]^T\n",
    "$$\n",
    "\n",
    "勾配降下法は現在の$w$を負の勾配方向($-\\nabla E$)に少し動かし、これを何度も繰り返す\n",
    "\n",
    "$$\n",
    "w^{(t + 1)} = w^{(t)} - \\epsilon \\nabla E\n",
    "$$"
   ]
  },
  {
   "cell_type": "code",
   "execution_count": null,
   "metadata": {
    "collapsed": true
   },
   "outputs": [],
   "source": []
  },
  {
   "cell_type": "code",
   "execution_count": null,
   "metadata": {
    "collapsed": true
   },
   "outputs": [],
   "source": []
  },
  {
   "cell_type": "code",
   "execution_count": null,
   "metadata": {
    "collapsed": true
   },
   "outputs": [],
   "source": []
  }
 ],
 "metadata": {
  "kernelspec": {
   "display_name": "Python 3",
   "language": "python",
   "name": "python3"
  },
  "language_info": {
   "codemirror_mode": {
    "name": "ipython",
    "version": 3
   },
   "file_extension": ".py",
   "mimetype": "text/x-python",
   "name": "python",
   "nbconvert_exporter": "python",
   "pygments_lexer": "ipython3",
   "version": "3.6.0"
  }
 },
 "nbformat": 4,
 "nbformat_minor": 2
}
